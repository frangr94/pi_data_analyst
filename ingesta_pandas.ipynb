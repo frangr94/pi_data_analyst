{
 "cells": [
  {
   "cell_type": "code",
   "execution_count": 76,
   "metadata": {},
   "outputs": [],
   "source": [
    "import pandas as pd\n",
    "import pymysql\n",
    "import matplotlib.pyplot as plt\n",
    "import seaborn as sns\n",
    "from functools import reduce"
   ]
  },
  {
   "cell_type": "code",
   "execution_count": 77,
   "metadata": {},
   "outputs": [],
   "source": [
    "# conectarse a bbdd mysql\n",
    "with open ('password.txt') as f:\n",
    "   pwd=str(f.readline()).strip()\n",
    "\n",
    "conexion = pymysql.connect(host='localhost',\n",
    "                           database = 'henry_pi',\n",
    "                           user= 'root',\n",
    "                           password=pwd)\n",
    "\n",
    "cursor = conexion.cursor()"
   ]
  },
  {
   "cell_type": "code",
   "execution_count": 78,
   "metadata": {},
   "outputs": [],
   "source": [
    "# se le pasa el nombre de una tabla contenida en una base de datos a la cual se esta conectado\n",
    "# devuelve un dataframe\n",
    "def extraer_datos(tabla:str):\n",
    "    cursor.execute(\"SELECT * FROM {}\".format(tabla))\n",
    "    rows = cursor.fetchall()\n",
    "    headers = [column[0] for column in cursor.description]\n",
    "    df= pd.DataFrame(rows,columns=headers)\n",
    "    return df\n"
   ]
  },
  {
   "cell_type": "code",
   "execution_count": 79,
   "metadata": {},
   "outputs": [],
   "source": [
    "# extraer datos de bbdd\n",
    "historico_velocidad_nacional=extraer_datos('historico_velocidad_nacional')\n",
    "ingresos_trimestre=extraer_datos('ingresos_trimestre')\n",
    "internet_accesos_velocidad_provincias=extraer_datos('internet_accesos_velocidad_provincias')\n",
    "internet_penetracion_hogares=extraer_datos('internet_penetracion_hogares')\n",
    "internet_tipo_nacional=extraer_datos('internet_tipo_nacional')\n",
    "internet_tipo_provincias=extraer_datos('internet_tipo_provincias')\n",
    "localidades_servicios=extraer_datos('localidades_servicios')"
   ]
  },
  {
   "cell_type": "code",
   "execution_count": 80,
   "metadata": {},
   "outputs": [],
   "source": [
    "# unir los dataframes segun la estructura de los datos\n",
    "nacionales = [historico_velocidad_nacional,ingresos_trimestre,internet_tipo_nacional]\n",
    "provinciales = [internet_accesos_velocidad_provincias,internet_penetracion_hogares,internet_tipo_provincias]\n",
    "locales=[localidades_servicios]"
   ]
  },
  {
   "cell_type": "code",
   "execution_count": 81,
   "metadata": {},
   "outputs": [],
   "source": [
    "# deshacerse de algunas columnas innecesarias\n",
    "historico_velocidad_nacional.drop(columns='trimestre_d',inplace=True)\n",
    "ingresos_trimestre.drop(columns='periodo',inplace=True)"
   ]
  },
  {
   "cell_type": "code",
   "execution_count": 82,
   "metadata": {},
   "outputs": [],
   "source": [
    "df_nacionales = reduce(lambda left,right:pd.merge(left,right, on=['año','trimestre'],how='outer'),nacionales) # uso reduce para hacer un join de los dataframes"
   ]
  },
  {
   "cell_type": "code",
   "execution_count": 83,
   "metadata": {},
   "outputs": [],
   "source": [
    "internet_tipo_provincias['trimestre']=internet_tipo_provincias.trimestre.astype(int)\n",
    "internet_accesos_velocidad_provincias.rename(columns={'otros':'otras_velocidades'},inplace=True)\n",
    "internet_tipo_provincias.drop(columns='total',inplace=True)"
   ]
  },
  {
   "cell_type": "code",
   "execution_count": 84,
   "metadata": {},
   "outputs": [],
   "source": [
    "df_provinciales = reduce(lambda left,right:pd.merge(left,right,on=['año','trimestre','provincia'],how='outer'),provinciales)"
   ]
  },
  {
   "cell_type": "code",
   "execution_count": 87,
   "metadata": {},
   "outputs": [],
   "source": [
    "df_locales = locales"
   ]
  },
  {
   "cell_type": "code",
   "execution_count": null,
   "metadata": {},
   "outputs": [],
   "source": []
  }
 ],
 "metadata": {
  "kernelspec": {
   "display_name": "Python 3",
   "language": "python",
   "name": "python3"
  },
  "language_info": {
   "codemirror_mode": {
    "name": "ipython",
    "version": 3
   },
   "file_extension": ".py",
   "mimetype": "text/x-python",
   "name": "python",
   "nbconvert_exporter": "python",
   "pygments_lexer": "ipython3",
   "version": "3.10.6"
  },
  "orig_nbformat": 4
 },
 "nbformat": 4,
 "nbformat_minor": 2
}
